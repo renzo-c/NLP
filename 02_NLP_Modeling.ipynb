{
  "cells": [
    {
      "attachments": {},
      "cell_type": "markdown",
      "metadata": {
        "id": "-lCTxBUqMJlt"
      },
      "source": [
        "## Loading and Exploring dataset"
      ]
    },
    {
      "cell_type": "code",
      "execution_count": 1,
      "metadata": {
        "colab": {
          "base_uri": "https://localhost:8080/"
        },
        "id": "XiPxPrdkITjB",
        "outputId": "3cae4712-fe28-4eec-f5a9-8553da68bf05"
      },
      "outputs": [
        {
          "name": "stdout",
          "output_type": "stream",
          "text": [
            "--2023-06-06 01:10:40--  https://raw.githubusercontent.com/practical-nlp/practical-nlp/master/Ch4/Data/Full-Economic-News-DFE-839861.csv\n",
            "Resolving raw.githubusercontent.com (raw.githubusercontent.com)... 185.199.111.133, 185.199.109.133, 185.199.108.133, ...\n",
            "Connecting to raw.githubusercontent.com (raw.githubusercontent.com)|185.199.111.133|:443... connected.\n",
            "HTTP request sent, awaiting response... 200 OK\n",
            "Length: 12383529 (12M) [text/plain]\n",
            "Saving to: ‘DATAPATH/Full-Economic-News-DFE-839861.csv’\n",
            "\n",
            "Full-Economic-News- 100%[===================>]  11.81M  --.-KB/s    in 0.1s    \n",
            "\n",
            "2023-06-06 01:10:41 (91.6 MB/s) - ‘DATAPATH/Full-Economic-News-DFE-839861.csv’ saved [12383529/12383529]\n",
            "\n"
          ]
        }
      ],
      "source": [
        "from google.colab import files\n",
        "import pandas as pd\n",
        "\n",
        "!wget -P DATAPATH https://raw.githubusercontent.com/practical-nlp/practical-nlp/master/Ch4/Data/Full-Economic-News-DFE-839861.csv\n",
        "\n",
        "data = pd.read_csv(\"DATAPATH/Full-Economic-News-DFE-839861.csv\" , encoding = \"ISO-8859-1\" )"
      ]
    },
    {
      "cell_type": "code",
      "execution_count": 2,
      "metadata": {
        "colab": {
          "base_uri": "https://localhost:8080/",
          "height": 398
        },
        "id": "oXGc7CShNMYX",
        "outputId": "d3cbbef9-f3ec-4137-8325-087530382d83"
      },
      "outputs": [
        {
          "data": {
            "text/html": [
              "\n",
              "  <div id=\"df-70893f3b-8114-4175-ad77-4d1daf2272ef\">\n",
              "    <div class=\"colab-df-container\">\n",
              "      <div>\n",
              "<style scoped>\n",
              "    .dataframe tbody tr th:only-of-type {\n",
              "        vertical-align: middle;\n",
              "    }\n",
              "\n",
              "    .dataframe tbody tr th {\n",
              "        vertical-align: top;\n",
              "    }\n",
              "\n",
              "    .dataframe thead th {\n",
              "        text-align: right;\n",
              "    }\n",
              "</style>\n",
              "<table border=\"1\" class=\"dataframe\">\n",
              "  <thead>\n",
              "    <tr style=\"text-align: right;\">\n",
              "      <th></th>\n",
              "      <th>_unit_id</th>\n",
              "      <th>_golden</th>\n",
              "      <th>_unit_state</th>\n",
              "      <th>_trusted_judgments</th>\n",
              "      <th>_last_judgment_at</th>\n",
              "      <th>positivity</th>\n",
              "      <th>positivity:confidence</th>\n",
              "      <th>relevance</th>\n",
              "      <th>relevance:confidence</th>\n",
              "      <th>articleid</th>\n",
              "      <th>date</th>\n",
              "      <th>headline</th>\n",
              "      <th>positivity_gold</th>\n",
              "      <th>relevance_gold</th>\n",
              "      <th>text</th>\n",
              "    </tr>\n",
              "  </thead>\n",
              "  <tbody>\n",
              "    <tr>\n",
              "      <th>0</th>\n",
              "      <td>842613455</td>\n",
              "      <td>False</td>\n",
              "      <td>finalized</td>\n",
              "      <td>3</td>\n",
              "      <td>12/5/15 17:48</td>\n",
              "      <td>3.0</td>\n",
              "      <td>0.64</td>\n",
              "      <td>yes</td>\n",
              "      <td>0.64</td>\n",
              "      <td>wsj_398217788</td>\n",
              "      <td>8/14/91</td>\n",
              "      <td>Yields on CDs Fell in the Latest Week</td>\n",
              "      <td>NaN</td>\n",
              "      <td>NaN</td>\n",
              "      <td>NEW YORK -- Yields on most certificates of dep...</td>\n",
              "    </tr>\n",
              "    <tr>\n",
              "      <th>1</th>\n",
              "      <td>842613456</td>\n",
              "      <td>False</td>\n",
              "      <td>finalized</td>\n",
              "      <td>3</td>\n",
              "      <td>12/5/15 16:54</td>\n",
              "      <td>NaN</td>\n",
              "      <td>NaN</td>\n",
              "      <td>no</td>\n",
              "      <td>1.00</td>\n",
              "      <td>wsj_399019502</td>\n",
              "      <td>8/21/07</td>\n",
              "      <td>The Morning Brief: White House Seeks to Limit ...</td>\n",
              "      <td>NaN</td>\n",
              "      <td>NaN</td>\n",
              "      <td>The Wall Street Journal Online&lt;/br&gt;&lt;/br&gt;The Mo...</td>\n",
              "    </tr>\n",
              "    <tr>\n",
              "      <th>2</th>\n",
              "      <td>842613457</td>\n",
              "      <td>False</td>\n",
              "      <td>finalized</td>\n",
              "      <td>3</td>\n",
              "      <td>12/5/15 1:59</td>\n",
              "      <td>NaN</td>\n",
              "      <td>NaN</td>\n",
              "      <td>no</td>\n",
              "      <td>1.00</td>\n",
              "      <td>wsj_398284048</td>\n",
              "      <td>11/14/91</td>\n",
              "      <td>Banking Bill Negotiators Set Compromise --- Pl...</td>\n",
              "      <td>NaN</td>\n",
              "      <td>NaN</td>\n",
              "      <td>WASHINGTON -- In an effort to achieve banking ...</td>\n",
              "    </tr>\n",
              "  </tbody>\n",
              "</table>\n",
              "</div>\n",
              "      <button class=\"colab-df-convert\" onclick=\"convertToInteractive('df-70893f3b-8114-4175-ad77-4d1daf2272ef')\"\n",
              "              title=\"Convert this dataframe to an interactive table.\"\n",
              "              style=\"display:none;\">\n",
              "        \n",
              "  <svg xmlns=\"http://www.w3.org/2000/svg\" height=\"24px\"viewBox=\"0 0 24 24\"\n",
              "       width=\"24px\">\n",
              "    <path d=\"M0 0h24v24H0V0z\" fill=\"none\"/>\n",
              "    <path d=\"M18.56 5.44l.94 2.06.94-2.06 2.06-.94-2.06-.94-.94-2.06-.94 2.06-2.06.94zm-11 1L8.5 8.5l.94-2.06 2.06-.94-2.06-.94L8.5 2.5l-.94 2.06-2.06.94zm10 10l.94 2.06.94-2.06 2.06-.94-2.06-.94-.94-2.06-.94 2.06-2.06.94z\"/><path d=\"M17.41 7.96l-1.37-1.37c-.4-.4-.92-.59-1.43-.59-.52 0-1.04.2-1.43.59L10.3 9.45l-7.72 7.72c-.78.78-.78 2.05 0 2.83L4 21.41c.39.39.9.59 1.41.59.51 0 1.02-.2 1.41-.59l7.78-7.78 2.81-2.81c.8-.78.8-2.07 0-2.86zM5.41 20L4 18.59l7.72-7.72 1.47 1.35L5.41 20z\"/>\n",
              "  </svg>\n",
              "      </button>\n",
              "      \n",
              "  <style>\n",
              "    .colab-df-container {\n",
              "      display:flex;\n",
              "      flex-wrap:wrap;\n",
              "      gap: 12px;\n",
              "    }\n",
              "\n",
              "    .colab-df-convert {\n",
              "      background-color: #E8F0FE;\n",
              "      border: none;\n",
              "      border-radius: 50%;\n",
              "      cursor: pointer;\n",
              "      display: none;\n",
              "      fill: #1967D2;\n",
              "      height: 32px;\n",
              "      padding: 0 0 0 0;\n",
              "      width: 32px;\n",
              "    }\n",
              "\n",
              "    .colab-df-convert:hover {\n",
              "      background-color: #E2EBFA;\n",
              "      box-shadow: 0px 1px 2px rgba(60, 64, 67, 0.3), 0px 1px 3px 1px rgba(60, 64, 67, 0.15);\n",
              "      fill: #174EA6;\n",
              "    }\n",
              "\n",
              "    [theme=dark] .colab-df-convert {\n",
              "      background-color: #3B4455;\n",
              "      fill: #D2E3FC;\n",
              "    }\n",
              "\n",
              "    [theme=dark] .colab-df-convert:hover {\n",
              "      background-color: #434B5C;\n",
              "      box-shadow: 0px 1px 3px 1px rgba(0, 0, 0, 0.15);\n",
              "      filter: drop-shadow(0px 1px 2px rgba(0, 0, 0, 0.3));\n",
              "      fill: #FFFFFF;\n",
              "    }\n",
              "  </style>\n",
              "\n",
              "      <script>\n",
              "        const buttonEl =\n",
              "          document.querySelector('#df-70893f3b-8114-4175-ad77-4d1daf2272ef button.colab-df-convert');\n",
              "        buttonEl.style.display =\n",
              "          google.colab.kernel.accessAllowed ? 'block' : 'none';\n",
              "\n",
              "        async function convertToInteractive(key) {\n",
              "          const element = document.querySelector('#df-70893f3b-8114-4175-ad77-4d1daf2272ef');\n",
              "          const dataTable =\n",
              "            await google.colab.kernel.invokeFunction('convertToInteractive',\n",
              "                                                     [key], {});\n",
              "          if (!dataTable) return;\n",
              "\n",
              "          const docLinkHtml = 'Like what you see? Visit the ' +\n",
              "            '<a target=\"_blank\" href=https://colab.research.google.com/notebooks/data_table.ipynb>data table notebook</a>'\n",
              "            + ' to learn more about interactive tables.';\n",
              "          element.innerHTML = '';\n",
              "          dataTable['output_type'] = 'display_data';\n",
              "          await google.colab.output.renderOutput(dataTable, element);\n",
              "          const docLink = document.createElement('div');\n",
              "          docLink.innerHTML = docLinkHtml;\n",
              "          element.appendChild(docLink);\n",
              "        }\n",
              "      </script>\n",
              "    </div>\n",
              "  </div>\n",
              "  "
            ],
            "text/plain": [
              "    _unit_id  _golden _unit_state  _trusted_judgments _last_judgment_at  \\\n",
              "0  842613455    False   finalized                   3     12/5/15 17:48   \n",
              "1  842613456    False   finalized                   3     12/5/15 16:54   \n",
              "2  842613457    False   finalized                   3      12/5/15 1:59   \n",
              "\n",
              "   positivity  positivity:confidence relevance  relevance:confidence  \\\n",
              "0         3.0                   0.64       yes                  0.64   \n",
              "1         NaN                    NaN        no                  1.00   \n",
              "2         NaN                    NaN        no                  1.00   \n",
              "\n",
              "       articleid      date                                           headline  \\\n",
              "0  wsj_398217788   8/14/91              Yields on CDs Fell in the Latest Week   \n",
              "1  wsj_399019502   8/21/07  The Morning Brief: White House Seeks to Limit ...   \n",
              "2  wsj_398284048  11/14/91  Banking Bill Negotiators Set Compromise --- Pl...   \n",
              "\n",
              "   positivity_gold  relevance_gold  \\\n",
              "0              NaN             NaN   \n",
              "1              NaN             NaN   \n",
              "2              NaN             NaN   \n",
              "\n",
              "                                                text  \n",
              "0  NEW YORK -- Yields on most certificates of dep...  \n",
              "1  The Wall Street Journal Online</br></br>The Mo...  \n",
              "2  WASHINGTON -- In an effort to achieve banking ...  "
            ]
          },
          "execution_count": 2,
          "metadata": {},
          "output_type": "execute_result"
        }
      ],
      "source": [
        "data.head(3)"
      ]
    },
    {
      "cell_type": "code",
      "execution_count": 3,
      "metadata": {
        "colab": {
          "base_uri": "https://localhost:8080/",
          "height": 104
        },
        "id": "v6L6UPoBItL5",
        "outputId": "b7db4bea-d567-4357-a171-14ff679c178c"
      },
      "outputs": [
        {
          "data": {
            "text/plain": [
              "(8000, 15)"
            ]
          },
          "metadata": {},
          "output_type": "display_data"
        },
        {
          "data": {
            "text/plain": [
              "no          0.821375\n",
              "yes         0.177500\n",
              "not sure    0.001125\n",
              "Name: relevance, dtype: float64"
            ]
          },
          "execution_count": 3,
          "metadata": {},
          "output_type": "execute_result"
        }
      ],
      "source": [
        "display(data.shape) # number of row instances and columns\n",
        "data['relevance'].value_counts()/data.shape[0] # class distributions\n",
        "# we notice a class imbalance, with 82% of the dataset samples tagged as new not relevant for us economy"
      ]
    },
    {
      "cell_type": "code",
      "execution_count": 4,
      "metadata": {
        "colab": {
          "base_uri": "https://localhost:8080/"
        },
        "id": "nWUneEmrIuhk",
        "outputId": "fb404cd9-d0ba-4506-bb19-b5b0a0023a53"
      },
      "outputs": [
        {
          "name": "stderr",
          "output_type": "stream",
          "text": [
            "<ipython-input-4-10441e37efb1>:4: SettingWithCopyWarning: \n",
            "A value is trying to be set on a copy of a slice from a DataFrame.\n",
            "Try using .loc[row_indexer,col_indexer] = value instead\n",
            "\n",
            "See the caveats in the documentation: https://pandas.pydata.org/pandas-docs/stable/user_guide/indexing.html#returning-a-view-versus-a-copy\n",
            "  data['relevance'] = data.relevance.map({'yes': 1, 'no': 0})\n"
          ]
        },
        {
          "data": {
            "text/plain": [
              "(7991, 2)"
            ]
          },
          "execution_count": 4,
          "metadata": {},
          "output_type": "execute_result"
        }
      ],
      "source": [
        "# converting class labels into binary: 1 Yes (Relevant), 0 No (Not Relevant). Omit \"Not Sure\" tag\n",
        "data = data[data.relevance != \"not sure\"] # Omitting Not Sure\n",
        "data.shape\n",
        "data['relevance'] = data.relevance.map({'yes': 1, 'no': 0})\n",
        "data = data[[\"text\", \"relevance\"]]\n",
        "data.shape\n"
      ]
    },
    {
      "cell_type": "code",
      "execution_count": 5,
      "metadata": {
        "colab": {
          "base_uri": "https://localhost:8080/",
          "height": 143
        },
        "id": "XArVo5C1J3UI",
        "outputId": "f4706b64-78aa-49c9-d8cc-11f89b23ab61"
      },
      "outputs": [
        {
          "data": {
            "text/html": [
              "\n",
              "  <div id=\"df-f0740858-dd0e-471d-88e3-b4c43c291e7b\">\n",
              "    <div class=\"colab-df-container\">\n",
              "      <div>\n",
              "<style scoped>\n",
              "    .dataframe tbody tr th:only-of-type {\n",
              "        vertical-align: middle;\n",
              "    }\n",
              "\n",
              "    .dataframe tbody tr th {\n",
              "        vertical-align: top;\n",
              "    }\n",
              "\n",
              "    .dataframe thead th {\n",
              "        text-align: right;\n",
              "    }\n",
              "</style>\n",
              "<table border=\"1\" class=\"dataframe\">\n",
              "  <thead>\n",
              "    <tr style=\"text-align: right;\">\n",
              "      <th></th>\n",
              "      <th>text</th>\n",
              "      <th>relevance</th>\n",
              "    </tr>\n",
              "  </thead>\n",
              "  <tbody>\n",
              "    <tr>\n",
              "      <th>0</th>\n",
              "      <td>NEW YORK -- Yields on most certificates of dep...</td>\n",
              "      <td>1</td>\n",
              "    </tr>\n",
              "    <tr>\n",
              "      <th>1</th>\n",
              "      <td>The Wall Street Journal Online&lt;/br&gt;&lt;/br&gt;The Mo...</td>\n",
              "      <td>0</td>\n",
              "    </tr>\n",
              "    <tr>\n",
              "      <th>2</th>\n",
              "      <td>WASHINGTON -- In an effort to achieve banking ...</td>\n",
              "      <td>0</td>\n",
              "    </tr>\n",
              "  </tbody>\n",
              "</table>\n",
              "</div>\n",
              "      <button class=\"colab-df-convert\" onclick=\"convertToInteractive('df-f0740858-dd0e-471d-88e3-b4c43c291e7b')\"\n",
              "              title=\"Convert this dataframe to an interactive table.\"\n",
              "              style=\"display:none;\">\n",
              "        \n",
              "  <svg xmlns=\"http://www.w3.org/2000/svg\" height=\"24px\"viewBox=\"0 0 24 24\"\n",
              "       width=\"24px\">\n",
              "    <path d=\"M0 0h24v24H0V0z\" fill=\"none\"/>\n",
              "    <path d=\"M18.56 5.44l.94 2.06.94-2.06 2.06-.94-2.06-.94-.94-2.06-.94 2.06-2.06.94zm-11 1L8.5 8.5l.94-2.06 2.06-.94-2.06-.94L8.5 2.5l-.94 2.06-2.06.94zm10 10l.94 2.06.94-2.06 2.06-.94-2.06-.94-.94-2.06-.94 2.06-2.06.94z\"/><path d=\"M17.41 7.96l-1.37-1.37c-.4-.4-.92-.59-1.43-.59-.52 0-1.04.2-1.43.59L10.3 9.45l-7.72 7.72c-.78.78-.78 2.05 0 2.83L4 21.41c.39.39.9.59 1.41.59.51 0 1.02-.2 1.41-.59l7.78-7.78 2.81-2.81c.8-.78.8-2.07 0-2.86zM5.41 20L4 18.59l7.72-7.72 1.47 1.35L5.41 20z\"/>\n",
              "  </svg>\n",
              "      </button>\n",
              "      \n",
              "  <style>\n",
              "    .colab-df-container {\n",
              "      display:flex;\n",
              "      flex-wrap:wrap;\n",
              "      gap: 12px;\n",
              "    }\n",
              "\n",
              "    .colab-df-convert {\n",
              "      background-color: #E8F0FE;\n",
              "      border: none;\n",
              "      border-radius: 50%;\n",
              "      cursor: pointer;\n",
              "      display: none;\n",
              "      fill: #1967D2;\n",
              "      height: 32px;\n",
              "      padding: 0 0 0 0;\n",
              "      width: 32px;\n",
              "    }\n",
              "\n",
              "    .colab-df-convert:hover {\n",
              "      background-color: #E2EBFA;\n",
              "      box-shadow: 0px 1px 2px rgba(60, 64, 67, 0.3), 0px 1px 3px 1px rgba(60, 64, 67, 0.15);\n",
              "      fill: #174EA6;\n",
              "    }\n",
              "\n",
              "    [theme=dark] .colab-df-convert {\n",
              "      background-color: #3B4455;\n",
              "      fill: #D2E3FC;\n",
              "    }\n",
              "\n",
              "    [theme=dark] .colab-df-convert:hover {\n",
              "      background-color: #434B5C;\n",
              "      box-shadow: 0px 1px 3px 1px rgba(0, 0, 0, 0.15);\n",
              "      filter: drop-shadow(0px 1px 2px rgba(0, 0, 0, 0.3));\n",
              "      fill: #FFFFFF;\n",
              "    }\n",
              "  </style>\n",
              "\n",
              "      <script>\n",
              "        const buttonEl =\n",
              "          document.querySelector('#df-f0740858-dd0e-471d-88e3-b4c43c291e7b button.colab-df-convert');\n",
              "        buttonEl.style.display =\n",
              "          google.colab.kernel.accessAllowed ? 'block' : 'none';\n",
              "\n",
              "        async function convertToInteractive(key) {\n",
              "          const element = document.querySelector('#df-f0740858-dd0e-471d-88e3-b4c43c291e7b');\n",
              "          const dataTable =\n",
              "            await google.colab.kernel.invokeFunction('convertToInteractive',\n",
              "                                                     [key], {});\n",
              "          if (!dataTable) return;\n",
              "\n",
              "          const docLinkHtml = 'Like what you see? Visit the ' +\n",
              "            '<a target=\"_blank\" href=https://colab.research.google.com/notebooks/data_table.ipynb>data table notebook</a>'\n",
              "            + ' to learn more about interactive tables.';\n",
              "          element.innerHTML = '';\n",
              "          dataTable['output_type'] = 'display_data';\n",
              "          await google.colab.output.renderOutput(dataTable, element);\n",
              "          const docLink = document.createElement('div');\n",
              "          docLink.innerHTML = docLinkHtml;\n",
              "          element.appendChild(docLink);\n",
              "        }\n",
              "      </script>\n",
              "    </div>\n",
              "  </div>\n",
              "  "
            ],
            "text/plain": [
              "                                                text  relevance\n",
              "0  NEW YORK -- Yields on most certificates of dep...          1\n",
              "1  The Wall Street Journal Online</br></br>The Mo...          0\n",
              "2  WASHINGTON -- In an effort to achieve banking ...          0"
            ]
          },
          "execution_count": 5,
          "metadata": {},
          "output_type": "execute_result"
        }
      ],
      "source": [
        "data.head(3)"
      ]
    },
    {
      "attachments": {},
      "cell_type": "markdown",
      "metadata": {
        "id": "NCJ9hxvJTFM5"
      },
      "source": [
        "## Text Processing\n",
        "For text processing, we rely on different techniques like tokenization, lowercasing, removing stop words, punctuation, and tags, vectorization. Some advanced techniques are lemmatization and stemming. "
      ]
    },
    {
      "cell_type": "code",
      "execution_count": 6,
      "metadata": {
        "colab": {
          "base_uri": "https://localhost:8080/"
        },
        "id": "S3eMomSa5daY",
        "outputId": "9b5b6413-c662-4f8d-8818-8e38268cba21"
      },
      "outputs": [
        {
          "name": "stderr",
          "output_type": "stream",
          "text": [
            "[nltk_data] Downloading package stopwords to /root/nltk_data...\n",
            "[nltk_data]   Unzipping corpora/stopwords.zip.\n"
          ]
        },
        {
          "data": {
            "text/plain": [
              "True"
            ]
          },
          "execution_count": 6,
          "metadata": {},
          "output_type": "execute_result"
        }
      ],
      "source": [
        "#import preprocess util methods from nltk\n",
        "import nltk\n",
        "from nltk.corpus import stopwords\n",
        "\n",
        "# pre-processing utils\n",
        "import string\n",
        "\n",
        "nltk.download('stopwords')"
      ]
    },
    {
      "cell_type": "code",
      "execution_count": 7,
      "metadata": {
        "id": "Y7C9VdPRSW98"
      },
      "outputs": [],
      "source": [
        "stop_words = set(stopwords.words('english'))\n",
        "\n",
        "# for our custom text processing stage we are removing stopwords, punctuation, and digits\n",
        "def clean(doc):\n",
        "  doc = doc.replace(\"</br>\", \"\")\n",
        "  doc = \"\".join([char for char in doc if char not in string.punctuation and not char.isdigit()])\n",
        "  doc = \" \".join([token for token in doc.split() if token not in stop_words])\n",
        "  return doc"
      ]
    },
    {
      "attachments": {},
      "cell_type": "markdown",
      "metadata": {
        "id": "Su7oOcr7_dNU"
      },
      "source": [
        "## Modeling"
      ]
    },
    {
      "cell_type": "code",
      "execution_count": 8,
      "metadata": {
        "colab": {
          "base_uri": "https://localhost:8080/"
        },
        "id": "AofDtQ7k_bEE",
        "outputId": "a075b200-24ef-4393-cd72-c0f20244c23e"
      },
      "outputs": [
        {
          "name": "stdout",
          "output_type": "stream",
          "text": [
            "(7991,) (7991,)\n",
            "(5993,) (5993,)\n",
            "(1998,) (1998,)\n"
          ]
        }
      ],
      "source": [
        "import sklearn\n",
        "from sklearn.model_selection import train_test_split\n",
        "\n",
        "SEED=32\n",
        "\n",
        "# train test split\n",
        "X = data.text\n",
        "y = data.relevance\n",
        "print(X.shape, y.shape)\n",
        "\n",
        "X_train, X_test, y_train, y_test = train_test_split(X, y, random_state=SEED)\n",
        "\n",
        "print(X_train.shape, y_train.shape)\n",
        "print(X_test.shape, y_test.shape)"
      ]
    },
    {
      "cell_type": "code",
      "execution_count": 9,
      "metadata": {
        "colab": {
          "base_uri": "https://localhost:8080/"
        },
        "id": "kvTNpQ5zBT5i",
        "outputId": "176f45ae-aff4-4beb-9e2e-27aed8b4e415"
      },
      "outputs": [
        {
          "name": "stdout",
          "output_type": "stream",
          "text": [
            "(5993, 65193) (1998, 65193)\n",
            "  (0, 15689)\t1\n",
            "  (0, 43888)\t2\n",
            "  (0, 40695)\t2\n",
            "  (0, 6376)\t1\n",
            "  (0, 14677)\t1\n",
            "  (0, 46558)\t2\n",
            "  (0, 63050)\t1\n",
            "  (0, 41848)\t2\n",
            "  (0, 12382)\t1\n",
            "  (0, 19314)\t1\n",
            "  (0, 25176)\t1\n",
            "  (0, 31434)\t1\n",
            "  (0, 25026)\t1\n",
            "  (0, 33763)\t2\n",
            "  (0, 46662)\t1\n",
            "  (0, 43555)\t1\n",
            "  (0, 22939)\t1\n",
            "  (0, 28150)\t1\n",
            "  (0, 2639)\t2\n",
            "  (0, 16616)\t1\n",
            "  (0, 53880)\t1\n",
            "  (0, 19610)\t1\n",
            "  (0, 44431)\t1\n",
            "  (0, 42294)\t3\n",
            "  (0, 28471)\t1\n",
            "  :\t:\n",
            "  (0, 50434)\t1\n",
            "  (0, 33417)\t1\n",
            "  (0, 25704)\t1\n",
            "  (0, 57916)\t1\n",
            "  (0, 27289)\t1\n",
            "  (0, 39106)\t1\n",
            "  (0, 27977)\t1\n",
            "  (0, 25527)\t1\n",
            "  (0, 23833)\t1\n",
            "  (0, 36237)\t1\n",
            "  (0, 25196)\t2\n",
            "  (0, 35398)\t1\n",
            "  (0, 48367)\t1\n",
            "  (0, 40509)\t1\n",
            "  (0, 38294)\t1\n",
            "  (0, 39856)\t1\n",
            "  (0, 27285)\t1\n",
            "  (0, 23428)\t1\n",
            "  (0, 3424)\t1\n",
            "  (0, 11737)\t1\n",
            "  (0, 13587)\t1\n",
            "  (0, 60369)\t1\n",
            "  (0, 62621)\t1\n",
            "  (0, 37262)\t1\n",
            "  (0, 53949)\t1\n"
          ]
        }
      ],
      "source": [
        "# preprocess and vectorize train data\n",
        "\n",
        "# import feature extraction methods from sklearn\n",
        "from sklearn.feature_extraction.text import CountVectorizer\n",
        "# import model classes\n",
        "from sklearn.naive_bayes import MultinomialNB\n",
        "from sklearn.linear_model import LogisticRegression\n",
        "from sklearn.svm import LinearSVC\n",
        "\n",
        "vect = CountVectorizer(preprocessor=clean)\n",
        "X_train_dtm = vect.fit_transform(X_train) # dtm stands for document-term matrix\n",
        "X_test_dtm = vect.transform(X_test)\n",
        "\n",
        "# notice that the dimension of the vectors is 13811\n",
        "# 5993 and 1998 is the number of documents we are processing for train and test data\n",
        "print(X_train_dtm.shape, X_test_dtm.shape)\n",
        "# X_train_dtm is given in compressed sparse row format (CSR)\n",
        "# (0, 15689) is the the row and column of the dtm where the presense or frequence \n",
        "# of a term is represented with the number 1, 2, 0, etc\n",
        "# From the shape tuples we notice that we have FEATURE VECTORS WITH OVER 60,000 FEATURES!!!, \n",
        "# which is a lot. Sparse feature vectors add noise and are harder to train\n",
        "print(X_train_dtm[50:51])"
      ]
    },
    {
      "cell_type": "code",
      "execution_count": 10,
      "metadata": {
        "colab": {
          "base_uri": "https://localhost:8080/"
        },
        "id": "BnGG51CQIzog",
        "outputId": "401a2f31-380f-407e-b0d4-6a5437051e75"
      },
      "outputs": [
        {
          "name": "stdout",
          "output_type": "stream",
          "text": [
            "CPU times: user 14.7 ms, sys: 801 µs, total: 15.5 ms\n",
            "Wall time: 31.6 ms\n"
          ]
        }
      ],
      "source": [
        "## Evaluate the classifier using various measures\n",
        "from sklearn.metrics import accuracy_score, confusion_matrix, ConfusionMatrixDisplay, roc_auc_score\n",
        "\n",
        "# now we can create a classifier, train it, and make predictions for test data\n",
        "nb = MultinomialNB()\n",
        "\n",
        "# %time allows to evaluate the training time with this classifier\n",
        "# and understand the efficiency of the training process with this model, and then \n",
        "# compare its efficience with others\n",
        "%time nb.fit(X_train_dtm, y_train)\n",
        "\n",
        "y_pred_class = nb.predict(X_test_dtm)"
      ]
    },
    {
      "cell_type": "code",
      "execution_count": 11,
      "metadata": {
        "colab": {
          "base_uri": "https://localhost:8080/",
          "height": 507
        },
        "id": "PXUXRJzUPafp",
        "outputId": "48b52838-21ca-45cd-ba6a-fb135fa541b2"
      },
      "outputs": [
        {
          "name": "stdout",
          "output_type": "stream",
          "text": [
            "Accuracy:  0.8003003003003003\n"
          ]
        },
        {
          "data": {
            "image/png": "[encoded data removed]",
            "text/plain": [
              "<Figure size 640x480 with 2 Axes>"
            ]
          },
          "metadata": {},
          "output_type": "display_data"
        },
        {
          "name": "stdout",
          "output_type": "stream",
          "text": [
            "ROC_AOC_Score:  0.7422595170014721\n"
          ]
        }
      ],
      "source": [
        "from sklearn.preprocessing import normalize\n",
        "import numpy as np\n",
        "import itertools\n",
        "import matplotlib.pyplot as plt \n",
        "\n",
        "print(\"Accuracy: \", accuracy_score(y_test, y_pred_class))\n",
        "\n",
        "# creating the Confusion matrix\n",
        "cnf_matrix = confusion_matrix(y_test, y_pred_class)\n",
        "normalized_cnf_matrix = np.round(cnf_matrix / cnf_matrix.sum(axis=1, keepdims=True), 2)\n",
        "\n",
        "disp = ConfusionMatrixDisplay(confusion_matrix=normalized_cnf_matrix, display_labels=['Not Relevant','Relevant'])\n",
        "disp.plot()\n",
        "plt.title(\"Confusion matrix with all features\")\n",
        "plt.show()\n",
        "\n",
        "# Calculate AUC to have an idea about the efficiency\n",
        "y_pred_prob = nb.predict_proba(X_test_dtm)[:, 1] #Taking all prediction in position 1 (relevant)\n",
        "print(\"ROC_AOC_Score: \", roc_auc_score(y_test, y_pred_prob))\n",
        "# roc_auc is widely used in analysis of binary classification models for predictive performance.\n",
        "# It is robust to class imbalances\n",
        "# represents the probability that a random chosen positive instance will be ranked higher than a randomly chosen negative instance by the classifier\n",
        "# for this case, it evaluates the ability of the model to prioritize relevant new articles over non-relevant"
      ]
    },
    {
      "attachments": {},
      "cell_type": "markdown",
      "metadata": {
        "id": "o8Dj-9TqdeoD"
      },
      "source": [
        "### Improving classification performance\n",
        "With the previous approach we run into an escenario where the accuracy in predicting relevant cases is very low. Some of the possible reasons are mentioned below:\n",
        "- Sparse vectors\n",
        "- Imbalance data (favoring a better predictability in not relevant cases)\n",
        "- Need of a better algorithm\n",
        "- Need of a better preprocessing and feature extraction mechanism\n",
        "- Need to tune classifier's parameters and hyperparameters\n",
        "\n",
        "First alternative approach, limit the number of features to reduce possible noise"
      ]
    },
    {
      "cell_type": "code",
      "execution_count": 12,
      "metadata": {
        "colab": {
          "base_uri": "https://localhost:8080/",
          "height": 559
        },
        "id": "owZjwr7TdlpT",
        "outputId": "e81e106e-943c-48d3-9994-7bdf7c6deed4"
      },
      "outputs": [
        {
          "name": "stdout",
          "output_type": "stream",
          "text": [
            "(5993, 5000) (1998, 5000)\n",
            "CPU times: user 9.09 ms, sys: 0 ns, total: 9.09 ms\n",
            "Wall time: 19.7 ms\n",
            "Accuracy:  0.6836836836836837\n"
          ]
        },
        {
          "data": {
            "image/png": "[encoded data removed]",
            "text/plain": [
              "<Figure size 640x480 with 2 Axes>"
            ]
          },
          "metadata": {},
          "output_type": "display_data"
        },
        {
          "name": "stdout",
          "output_type": "stream",
          "text": [
            "ROC_AOC_Score:  0.7601648166311189\n"
          ]
        }
      ],
      "source": [
        "# sparse vectors: Reducing features to 5000\n",
        "vect = CountVectorizer(preprocessor=clean, max_features=5000)\n",
        "\n",
        "X_train_dtm = vect.fit_transform(X_train)\n",
        "X_test_dtm = vect.transform(X_test)\n",
        "\n",
        "print(X_train_dtm.shape, X_test_dtm.shape)\n",
        "\n",
        "# creating and training new instance of multinomial NB classifier\n",
        "nb = MultinomialNB()\n",
        "%time nb.fit(X_train_dtm, y_train)\n",
        "\n",
        "# new accuracy\n",
        "y_pred_class = nb.predict(X_test_dtm)\n",
        "print(\"Accuracy: \", accuracy_score(y_test, y_pred_class))\n",
        "\n",
        "# new confusion matrix\n",
        "cnf_matrix = confusion_matrix(y_test, y_pred_class)\n",
        "normalized_cnf_matrix = np.round(cnf_matrix / cnf_matrix.sum(axis=1, keepdims=True), 2)\n",
        "\n",
        "disp = ConfusionMatrixDisplay(confusion_matrix=normalized_cnf_matrix, display_labels=['Not Relevant','Relevant'])\n",
        "disp.plot()\n",
        "plt.title(\"Confusion matrix with all features\")\n",
        "plt.show()\n",
        "\n",
        "# New AUC\n",
        "y_pred_prob = nb.predict_proba(X_test_dtm)[:, 1]\n",
        "print(\"ROC_AOC_Score: \", roc_auc_score(y_test, y_pred_prob))\n",
        "\n",
        "# Although the efficiency dropped (amount of right predictions over the total amount of predictions), \n",
        "# the right relevant and not relevant predictions are balanced. The 'right' approach is based on which \n",
        "# variables is the most important in the problem we are trying to solve."
      ]
    },
    {
      "cell_type": "code",
      "execution_count": 13,
      "metadata": {
        "colab": {
          "base_uri": "https://localhost:8080/",
          "height": 507
        },
        "id": "qCjnLQifPcol",
        "outputId": "4c9911e3-e80f-47f0-9b0f-e571e2e27a9d"
      },
      "outputs": [
        {
          "name": "stdout",
          "output_type": "stream",
          "text": [
            "Accuracy:  0.7442442442442443\n"
          ]
        },
        {
          "data": {
            "image/png": "[encoded data removed]",
            "text/plain": [
              "<Figure size 640x480 with 2 Axes>"
            ]
          },
          "metadata": {},
          "output_type": "display_data"
        },
        {
          "name": "stdout",
          "output_type": "stream",
          "text": [
            "ROC_AOC_Score:  0.682522137288379\n"
          ]
        }
      ],
      "source": [
        "# imbalanced data - use of balanced data with logistic regression\n",
        "\n",
        "vect = CountVectorizer(preprocessor=clean, max_features=5000)\n",
        "\n",
        "X_train_dtm = vect.fit_transform(X_train)\n",
        "X_test_dtm = vect.transform(X_test)\n",
        "\n",
        "logreg = LogisticRegression(class_weight=\"balanced\", max_iter=225)\n",
        "logreg.fit(X_train_dtm, y_train)\n",
        "\n",
        "y_pred_class = logreg.predict(X_test_dtm)\n",
        "print(\"Accuracy: \", accuracy_score(y_test, y_pred_class))\n",
        "\n",
        "# new confusion matrix\n",
        "cnf_matrix = confusion_matrix(y_test, y_pred_class)\n",
        "normalized_cnf_matrix = np.round(cnf_matrix / cnf_matrix.sum(axis=1, keepdims=True), 2)\n",
        "\n",
        "disp = ConfusionMatrixDisplay(confusion_matrix=normalized_cnf_matrix, display_labels=['Not Relevant','Relevant'])\n",
        "disp.plot()\n",
        "plt.title(\"Confusion matrix with all features\")\n",
        "plt.show()\n",
        "\n",
        "# New AUC\n",
        "y_pred_prob = logreg.predict_proba(X_test_dtm)[:, 1]\n",
        "print(\"ROC_AOC_Score: \", roc_auc_score(y_test, y_pred_prob))\n",
        "\n",
        "# Although there was around a 6% increase in accuracy, the correct \n",
        "# predictions in the under-represented class got worst. Also, the amount of false positives increased"
      ]
    },
    {
      "cell_type": "code",
      "execution_count": 14,
      "metadata": {
        "colab": {
          "base_uri": "https://localhost:8080/",
          "height": 524
        },
        "id": "YkFzBEVDSs9f",
        "outputId": "bc218c2b-431a-4d9a-cab7-9f0cb97c803c"
      },
      "outputs": [
        {
          "name": "stderr",
          "output_type": "stream",
          "text": [
            "/usr/local/lib/python3.10/dist-packages/sklearn/svm/_base.py:1244: ConvergenceWarning: Liblinear failed to converge, increase the number of iterations.\n",
            "  warnings.warn(\n"
          ]
        },
        {
          "name": "stdout",
          "output_type": "stream",
          "text": [
            "Accuracy:  0.7332332332332332\n"
          ]
        },
        {
          "data": {
            "image/png": "[encoded data removed]",
            "text/plain": [
              "<Figure size 640x480 with 2 Axes>"
            ]
          },
          "metadata": {},
          "output_type": "display_data"
        }
      ],
      "source": [
        "# need of a better algorithm\n",
        "\n",
        "vect = CountVectorizer(preprocessor=clean, max_features=5000)\n",
        "\n",
        "X_train_dtm = vect.fit_transform(X_train)\n",
        "X_test_dtm = vect.transform(X_test)\n",
        "\n",
        "SVM_Classifier = LinearSVC(class_weight=\"balanced\")\n",
        "SVM_Classifier.fit(X_train_dtm, y_train)\n",
        "\n",
        "y_pred_class = SVM_Classifier.predict(X_test_dtm)\n",
        "\n",
        "print(\"Accuracy: \", accuracy_score(y_test, y_pred_class))\n",
        "\n",
        "# new confusion matrix\n",
        "cnf_matrix = confusion_matrix(y_test, y_pred_class)\n",
        "normalized_cnf_matrix = np.round(cnf_matrix / cnf_matrix.sum(axis=1, keepdims=True), 2)\n",
        "\n",
        "disp = ConfusionMatrixDisplay(confusion_matrix=normalized_cnf_matrix, display_labels=['Not Relevant','Relevant'])\n",
        "disp.plot()\n",
        "plt.title(\"Confusion matrix with all features\")\n",
        "plt.show()\n"
      ]
    }
  ],
  "metadata": {
    "colab": {
      "provenance": []
    },
    "kernelspec": {
      "display_name": "Python 3",
      "name": "python3"
    },
    "language_info": {
      "name": "python"
    }
  },
  "nbformat": 4,
  "nbformat_minor": 0
}
