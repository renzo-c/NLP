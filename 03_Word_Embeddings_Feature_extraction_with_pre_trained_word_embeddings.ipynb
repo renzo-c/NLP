{
  "cells": [
    {
      "cell_type": "markdown",
      "source": [
        "# Creating model with embedding-based feature extraction approach\n",
        "\n",
        "Instead of using BoW-based features to created the \"word embeddings\", understood as word-vector representations, we will use a pre-trained neural embedding model included in Word2Vec library, specifically one from Googlem, ...negative300.bins. The idea is to use these word embbedings as features to classify out text.  \n",
        "\n",
        "Notice the difference between word vectorization, not done this time since we are using the Google word embeddings, and feature vectorization, which we'll do with our raw text by averaging all word embeddings for all sentences (function embedding_feats)"
      ],
      "metadata": {
        "id": "mFtgO2aFvXG9"
      }
    },
    {
      "cell_type": "markdown",
      "metadata": {
        "id": "-lCTxBUqMJlt"
      },
      "source": [
        "## Loading and Exploring dataset"
      ]
    },
    {
      "cell_type": "code",
      "source": [
        "SEED=42"
      ],
      "metadata": {
        "id": "vrM-B5kAKcF2"
      },
      "execution_count": 1,
      "outputs": []
    },
    {
      "cell_type": "code",
      "source": [
        "from google.colab import files\n",
        "files.upload()\n",
        "\n",
        "!mkdir -p ~/.kaggle\n",
        "!mv kaggle.json ~/.kaggle/\n",
        "!chmod 600 ~/.kaggle/kaggle.json"
      ],
      "metadata": {
        "colab": {
          "base_uri": "https://localhost:8080/",
          "height": 78
        },
        "id": "DzMBh7O-kyno",
        "outputId": "5acc95f5-4140-4d7e-cdb5-0dbdde0581e2"
      },
      "execution_count": 2,
      "outputs": [
        {
          "output_type": "display_data",
          "data": {
            "text/plain": [
              "<IPython.core.display.HTML object>"
            ],
            "text/html": [
              "\n",
              "     <input type=\"file\" id=\"files-7af2a95e-1cf6-4832-b71a-2199bcb3422d\" name=\"files[]\" multiple disabled\n",
              "        style=\"border:none\" />\n",
              "     <output id=\"result-7af2a95e-1cf6-4832-b71a-2199bcb3422d\">\n",
              "      Upload widget is only available when the cell has been executed in the\n",
              "      current browser session. Please rerun this cell to enable.\n",
              "      </output>\n",
              "      <script>// Copyright 2017 Google LLC\n",
              "//\n",
              "// Licensed under the Apache License, Version 2.0 (the \"License\");\n",
              "// you may not use this file except in compliance with the License.\n",
              "// You may obtain a copy of the License at\n",
              "//\n",
              "//      http://www.apache.org/licenses/LICENSE-2.0\n",
              "//\n",
              "// Unless required by applicable law or agreed to in writing, software\n",
              "// distributed under the License is distributed on an \"AS IS\" BASIS,\n",
              "// WITHOUT WARRANTIES OR CONDITIONS OF ANY KIND, either express or implied.\n",
              "// See the License for the specific language governing permissions and\n",
              "// limitations under the License.\n",
              "\n",
              "/**\n",
              " * @fileoverview Helpers for google.colab Python module.\n",
              " */\n",
              "(function(scope) {\n",
              "function span(text, styleAttributes = {}) {\n",
              "  const element = document.createElement('span');\n",
              "  element.textContent = text;\n",
              "  for (const key of Object.keys(styleAttributes)) {\n",
              "    element.style[key] = styleAttributes[key];\n",
              "  }\n",
              "  return element;\n",
              "}\n",
              "\n",
              "// Max number of bytes which will be uploaded at a time.\n",
              "const MAX_PAYLOAD_SIZE = 100 * 1024;\n",
              "\n",
              "function _uploadFiles(inputId, outputId) {\n",
              "  const steps = uploadFilesStep(inputId, outputId);\n",
              "  const outputElement = document.getElementById(outputId);\n",
              "  // Cache steps on the outputElement to make it available for the next call\n",
              "  // to uploadFilesContinue from Python.\n",
              "  outputElement.steps = steps;\n",
              "\n",
              "  return _uploadFilesContinue(outputId);\n",
              "}\n",
              "\n",
              "// This is roughly an async generator (not supported in the browser yet),\n",
              "// where there are multiple asynchronous steps and the Python side is going\n",
              "// to poll for completion of each step.\n",
              "// This uses a Promise to block the python side on completion of each step,\n",
              "// then passes the result of the previous step as the input to the next step.\n",
              "function _uploadFilesContinue(outputId) {\n",
              "  const outputElement = document.getElementById(outputId);\n",
              "  const steps = outputElement.steps;\n",
              "\n",
              "  const next = steps.next(outputElement.lastPromiseValue);\n",
              "  return Promise.resolve(next.value.promise).then((value) => {\n",
              "    // Cache the last promise value to make it available to the next\n",
              "    // step of the generator.\n",
              "    outputElement.lastPromiseValue = value;\n",
              "    return next.value.response;\n",
              "  });\n",
              "}\n",
              "\n",
              "/**\n",
              " * Generator function which is called between each async step of the upload\n",
              " * process.\n",
              " * @param {string} inputId Element ID of the input file picker element.\n",
              " * @param {string} outputId Element ID of the output display.\n",
              " * @return {!Iterable<!Object>} Iterable of next steps.\n",
              " */\n",
              "function* uploadFilesStep(inputId, outputId) {\n",
              "  const inputElement = document.getElementById(inputId);\n",
              "  inputElement.disabled = false;\n",
              "\n",
              "  const outputElement = document.getElementById(outputId);\n",
              "  outputElement.innerHTML = '';\n",
              "\n",
              "  const pickedPromise = new Promise((resolve) => {\n",
              "    inputElement.addEventListener('change', (e) => {\n",
              "      resolve(e.target.files);\n",
              "    });\n",
              "  });\n",
              "\n",
              "  const cancel = document.createElement('button');\n",
              "  inputElement.parentElement.appendChild(cancel);\n",
              "  cancel.textContent = 'Cancel upload';\n",
              "  const cancelPromise = new Promise((resolve) => {\n",
              "    cancel.onclick = () => {\n",
              "      resolve(null);\n",
              "    };\n",
              "  });\n",
              "\n",
              "  // Wait for the user to pick the files.\n",
              "  const files = yield {\n",
              "    promise: Promise.race([pickedPromise, cancelPromise]),\n",
              "    response: {\n",
              "      action: 'starting',\n",
              "    }\n",
              "  };\n",
              "\n",
              "  cancel.remove();\n",
              "\n",
              "  // Disable the input element since further picks are not allowed.\n",
              "  inputElement.disabled = true;\n",
              "\n",
              "  if (!files) {\n",
              "    return {\n",
              "      response: {\n",
              "        action: 'complete',\n",
              "      }\n",
              "    };\n",
              "  }\n",
              "\n",
              "  for (const file of files) {\n",
              "    const li = document.createElement('li');\n",
              "    li.append(span(file.name, {fontWeight: 'bold'}));\n",
              "    li.append(span(\n",
              "        `(${file.type || 'n/a'}) - ${file.size} bytes, ` +\n",
              "        `last modified: ${\n",
              "            file.lastModifiedDate ? file.lastModifiedDate.toLocaleDateString() :\n",
              "                                    'n/a'} - `));\n",
              "    const percent = span('0% done');\n",
              "    li.appendChild(percent);\n",
              "\n",
              "    outputElement.appendChild(li);\n",
              "\n",
              "    const fileDataPromise = new Promise((resolve) => {\n",
              "      const reader = new FileReader();\n",
              "      reader.onload = (e) => {\n",
              "        resolve(e.target.result);\n",
              "      };\n",
              "      reader.readAsArrayBuffer(file);\n",
              "    });\n",
              "    // Wait for the data to be ready.\n",
              "    let fileData = yield {\n",
              "      promise: fileDataPromise,\n",
              "      response: {\n",
              "        action: 'continue',\n",
              "      }\n",
              "    };\n",
              "\n",
              "    // Use a chunked sending to avoid message size limits. See b/62115660.\n",
              "    let position = 0;\n",
              "    do {\n",
              "      const length = Math.min(fileData.byteLength - position, MAX_PAYLOAD_SIZE);\n",
              "      const chunk = new Uint8Array(fileData, position, length);\n",
              "      position += length;\n",
              "\n",
              "      const base64 = btoa(String.fromCharCode.apply(null, chunk));\n",
              "      yield {\n",
              "        response: {\n",
              "          action: 'append',\n",
              "          file: file.name,\n",
              "          data: base64,\n",
              "        },\n",
              "      };\n",
              "\n",
              "      let percentDone = fileData.byteLength === 0 ?\n",
              "          100 :\n",
              "          Math.round((position / fileData.byteLength) * 100);\n",
              "      percent.textContent = `${percentDone}% done`;\n",
              "\n",
              "    } while (position < fileData.byteLength);\n",
              "  }\n",
              "\n",
              "  // All done.\n",
              "  yield {\n",
              "    response: {\n",
              "      action: 'complete',\n",
              "    }\n",
              "  };\n",
              "}\n",
              "\n",
              "scope.google = scope.google || {};\n",
              "scope.google.colab = scope.google.colab || {};\n",
              "scope.google.colab._files = {\n",
              "  _uploadFiles,\n",
              "  _uploadFilesContinue,\n",
              "};\n",
              "})(self);\n",
              "</script> "
            ]
          },
          "metadata": {}
        },
        {
          "output_type": "stream",
          "name": "stdout",
          "text": [
            "Saving kaggle.json to kaggle.json\n"
          ]
        }
      ]
    },
    {
      "cell_type": "code",
      "source": [
        "import kaggle\n",
        "\n",
        "dataset_name = 'marklvl/sentiment-labelled-sentences-data-set'\n",
        "destination_path = 'archive'\n",
        "\n",
        "kaggle.api.dataset_download_files(dataset_name, path=destination_path, unzip=True)\n",
        "\n",
        "dataset_name = 'leadbest/googlenewsvectorsnegative300'\n",
        "kaggle.api.dataset_download_files(dataset_name, path=destination_path, unzip=True)\n"
      ],
      "metadata": {
        "id": "ErNcs9pKj9yZ"
      },
      "execution_count": 3,
      "outputs": []
    },
    {
      "cell_type": "code",
      "execution_count": 4,
      "metadata": {
        "id": "mZBiViOR2Tjo"
      },
      "outputs": [],
      "source": [
        "file_paths = ['archive/sentiment labelled sentences/amazon_cells_labelled.txt', 'archive/sentiment labelled sentences/imdb_labelled.txt', 'archive/sentiment labelled sentences/yelp_labelled.txt']\n",
        "output_file = 'archive/sentiment_sentences.txt'\n",
        "\n",
        "with open(output_file, 'w') as outfile:\n",
        "    for file_path in file_paths:\n",
        "        with open(file_path, 'r') as infile:\n",
        "            outfile.write(infile.read())\n"
      ]
    },
    {
      "cell_type": "code",
      "execution_count": 5,
      "metadata": {
        "id": "10SejDO24bY1",
        "colab": {
          "base_uri": "https://localhost:8080/",
          "height": 38
        },
        "outputId": "38a29a44-0352-41d5-dfe4-1f78c7090653"
      },
      "outputs": [
        {
          "output_type": "execute_result",
          "data": {
            "text/plain": [
              "'archive/sentiment_sentences.txt'"
            ],
            "application/vnd.google.colaboratory.intrinsic+json": {
              "type": "string"
            }
          },
          "metadata": {},
          "execution_count": 5
        }
      ],
      "source": [
        "import os\n",
        "\n",
        "data_path= \"archive\"\n",
        "\n",
        "training_data_path = os.path.join(data_path, \"sentiment_sentences.txt\")\n",
        "training_data_path"
      ]
    },
    {
      "cell_type": "code",
      "execution_count": 6,
      "metadata": {
        "colab": {
          "base_uri": "https://localhost:8080/"
        },
        "id": "_1eqDFMD51nj",
        "outputId": "bd5ab117-81f6-44f9-efdf-acf713d53c63"
      },
      "outputs": [
        {
          "output_type": "stream",
          "name": "stdout",
          "text": [
            "Good case, Excellent value.\n",
            "1\n",
            "\n",
            "3000 3000\n"
          ]
        }
      ],
      "source": [
        "#Read text data, cats.\n",
        "#the file path consists of tab separated sentences and cats.\n",
        "texts = []\n",
        "cats = []\n",
        "\n",
        "fh = open(training_data_path)\n",
        "for line in fh:\n",
        "    text, sentiment = line.split(\"\\t\")\n",
        "    texts.append(text)\n",
        "    cats.append(sentiment)\n",
        "\n",
        "print(texts[1])\n",
        "print(cats[1])\n",
        "print(len(texts), len(cats))"
      ]
    },
    {
      "cell_type": "code",
      "execution_count": 7,
      "metadata": {
        "colab": {
          "base_uri": "https://localhost:8080/"
        },
        "id": "azJO0YfJ6MGx",
        "outputId": "4ca2f4f7-e525-415a-a902-2481e258a952"
      },
      "outputs": [
        {
          "output_type": "stream",
          "name": "stdout",
          "text": [
            "CPU times: user 43.1 s, sys: 9.03 s, total: 52.2 s\n",
            "Wall time: 1min 3s\n",
            "done loading Word2Vec\n"
          ]
        }
      ],
      "source": [
        "import gensim.downloader as api\n",
        "from gensim.models import Word2Vec, KeyedVectors\n",
        "\n",
        "path_to_model = f'{data_path}/GoogleNews-vectors-negative300.bin'\n",
        "\n",
        "# loading the model word2vec\n",
        "%time w2v_model = KeyedVectors.load_word2vec_format(path_to_model, binary=True)\n",
        "print('done loading Word2Vec')"
      ]
    },
    {
      "cell_type": "code",
      "source": [
        "#Inspecting the model\n",
        "word2vec_vocab = w2v_model.key_to_index.keys()\n",
        "word2vec_vocab_lower = [item.lower for item in word2vec_vocab]\n",
        "print(len(word2vec_vocab_lower))\n",
        "list(w2v_model.key_to_index.keys())[:14]"
      ],
      "metadata": {
        "colab": {
          "base_uri": "https://localhost:8080/"
        },
        "id": "OdXpxIuNvJUQ",
        "outputId": "5b3f9f9c-78bc-4365-853f-a6f3fe728d8a"
      },
      "execution_count": 8,
      "outputs": [
        {
          "output_type": "stream",
          "name": "stdout",
          "text": [
            "3000000\n"
          ]
        },
        {
          "output_type": "execute_result",
          "data": {
            "text/plain": [
              "['</s>',\n",
              " 'in',\n",
              " 'for',\n",
              " 'that',\n",
              " 'is',\n",
              " 'on',\n",
              " '##',\n",
              " 'The',\n",
              " 'with',\n",
              " 'said',\n",
              " 'was',\n",
              " 'the',\n",
              " 'at',\n",
              " 'not']"
            ]
          },
          "metadata": {},
          "execution_count": 8
        }
      ]
    },
    {
      "cell_type": "code",
      "source": [
        "from string import punctuation\n",
        "from nltk.tokenize import word_tokenize\n",
        "import nltk\n",
        "from nltk.corpus import stopwords\n",
        "\n",
        "nltk.download('punkt')\n",
        "nltk.download('stopwords')\n",
        "\n",
        "# preprocess the text\n",
        "def preprocess_corpus(texts):\n",
        "  mystopwords = set(stopwords.words(\"english\"))\n",
        "  def remove_stop_digits(tokens):\n",
        "    # lowercase, remove stop words and digits from a list of tokens\n",
        "    return [token.lower() for token in tokens if token.lower() not in mystopwords and not token.isdigit() and token not in punctuation]\n",
        "  return [remove_stop_digits(word_tokenize(text)) for text in texts]\n",
        "\n",
        "text_processed = preprocess_corpus(texts)\n",
        "print(len(cats), len(text_processed))\n",
        "print(text_processed[1])\n",
        "print(cats[1])"
      ],
      "metadata": {
        "colab": {
          "base_uri": "https://localhost:8080/"
        },
        "id": "IVbsQ6FZxW0u",
        "outputId": "9e5b61a4-d0df-449b-bb53-62431a8d203a"
      },
      "execution_count": 9,
      "outputs": [
        {
          "output_type": "stream",
          "name": "stderr",
          "text": [
            "[nltk_data] Downloading package punkt to /root/nltk_data...\n",
            "[nltk_data]   Unzipping tokenizers/punkt.zip.\n",
            "[nltk_data] Downloading package stopwords to /root/nltk_data...\n",
            "[nltk_data]   Unzipping corpora/stopwords.zip.\n"
          ]
        },
        {
          "output_type": "stream",
          "name": "stdout",
          "text": [
            "3000 3000\n",
            "['good', 'case', 'excellent', 'value']\n",
            "1\n",
            "\n"
          ]
        }
      ]
    },
    {
      "cell_type": "code",
      "source": [
        "import numpy as np\n",
        "# Now that we have our text preprocessed in the form of list of lists (sentences),\n",
        "# we create the feature vectors by averaging all embeddings for all sentences\n",
        "# another way to say it, we are creating a unique feature vector for each list of tokens,\n",
        "# where tokens are the individual words and the list is the sentence\n",
        "def embedding_feats(list_of_lists):\n",
        "  DIMENSION=300\n",
        "  zero_vector=np.zeros(DIMENSION)\n",
        "  count_for_this= 0 + 1e-5\n",
        "  feats=[]\n",
        "  for tokens in list_of_lists:\n",
        "    feat_for_this=np.zeros(DIMENSION)\n",
        "    for token in tokens:\n",
        "      if token in w2v_model:\n",
        "        feat_for_this+=w2v_model[token]\n",
        "    if(count_for_this != 0):\n",
        "      feats.append(feat_for_this/count_for_this)\n",
        "    else:\n",
        "      feats.append(zero_vector)\n",
        "  return feats\n",
        "\n",
        "train_vectors=embedding_feats(text_processed)\n",
        "print(len(train_vectors))"
      ],
      "metadata": {
        "colab": {
          "base_uri": "https://localhost:8080/"
        },
        "id": "RtUiYfoL_Vlo",
        "outputId": "7c738458-1ab7-4fa3-8d3c-a4c9a704cbf3"
      },
      "execution_count": 10,
      "outputs": [
        {
          "output_type": "stream",
          "name": "stdout",
          "text": [
            "3000\n"
          ]
        }
      ]
    },
    {
      "cell_type": "code",
      "source": [
        "# we take a classiffier and create a model to train/test it with our vectors\n",
        "\n",
        "from sklearn.linear_model import LogisticRegression\n",
        "from sklearn.model_selection import train_test_split\n",
        "from sklearn.metrics import classification_report\n",
        "\n",
        "classifier = LogisticRegression(random_state=SEED, max_iter=200)\n",
        "train_data, test_data, train_cats, test_cats = train_test_split(train_vectors, cats)\n",
        "classifier.fit(train_data, train_cats)\n",
        "print(\"Accuracy: \", classifier.score(test_data, test_cats))\n",
        "\n",
        "preds=classifier.predict(test_data)\n",
        "print(classification_report(test_cats, preds))"
      ],
      "metadata": {
        "colab": {
          "base_uri": "https://localhost:8080/"
        },
        "id": "akOdb6DEJ7bb",
        "outputId": "b51caf8c-3e57-4524-b444-2c2f2b0cd447"
      },
      "execution_count": 11,
      "outputs": [
        {
          "output_type": "stream",
          "name": "stdout",
          "text": [
            "Accuracy:  0.816\n",
            "              precision    recall  f1-score   support\n",
            "\n",
            "          0\n",
            "       0.84      0.81      0.82       398\n",
            "          1\n",
            "       0.80      0.82      0.81       352\n",
            "\n",
            "    accuracy                           0.82       750\n",
            "   macro avg       0.82      0.82      0.82       750\n",
            "weighted avg       0.82      0.82      0.82       750\n",
            "\n"
          ]
        }
      ]
    }
  ],
  "metadata": {
    "colab": {
      "provenance": []
    },
    "kernelspec": {
      "display_name": "Python 3",
      "name": "python3"
    },
    "language_info": {
      "name": "python"
    }
  },
  "nbformat": 4,
  "nbformat_minor": 0
}