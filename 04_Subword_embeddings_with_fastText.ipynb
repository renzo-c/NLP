{
  "cells": [
    {
      "cell_type": "markdown",
      "source": [
        "# Creating model with embedding-based feature extraction approach using subword embedding technique for OOV cases\n",
        "\n",
        "Instead of omitting words that do not appear in our word embeddings, this time we are going to create an embedding representation for each word as a sum of the representation of individual characters."
      ],
      "metadata": {
        "id": "mFtgO2aFvXG9"
      }
    },
    {
      "cell_type": "markdown",
      "metadata": {
        "id": "-lCTxBUqMJlt"
      },
      "source": [
        "## Loading and Exploring dataset"
      ]
    },
    {
      "cell_type": "code",
      "source": [
        "pip install wget fasttext"
      ],
      "metadata": {
        "colab": {
          "base_uri": "https://localhost:8080/"
        },
        "id": "FOOa8ZG5FKsO",
        "outputId": "64964fca-f031-4dd8-879b-6fe52c8d0695"
      },
      "execution_count": 1,
      "outputs": [
        {
          "output_type": "stream",
          "name": "stdout",
          "text": [
            "Looking in indexes: https://pypi.org/simple, https://us-python.pkg.dev/colab-wheels/public/simple/\n",
            "Collecting wget\n",
            "  Downloading wget-3.2.zip (10 kB)\n",
            "  Preparing metadata (setup.py) ... \u001b[?25l\u001b[?25hdone\n",
            "Collecting fasttext\n",
            "  Downloading fasttext-0.9.2.tar.gz (68 kB)\n",
            "\u001b[2K     \u001b[90m━━━━━━━━━━━━━━━━━━━━━━━━━━━━━━━━━━━━━━━━\u001b[0m \u001b[32m68.8/68.8 kB\u001b[0m \u001b[31m3.3 MB/s\u001b[0m eta \u001b[36m0:00:00\u001b[0m\n",
            "\u001b[?25h  Preparing metadata (setup.py) ... \u001b[?25l\u001b[?25hdone\n",
            "Collecting pybind11>=2.2 (from fasttext)\n",
            "  Using cached pybind11-2.10.4-py3-none-any.whl (222 kB)\n",
            "Requirement already satisfied: setuptools>=0.7.0 in /usr/local/lib/python3.10/dist-packages (from fasttext) (67.7.2)\n",
            "Requirement already satisfied: numpy in /usr/local/lib/python3.10/dist-packages (from fasttext) (1.22.4)\n",
            "Building wheels for collected packages: wget, fasttext\n",
            "  Building wheel for wget (setup.py) ... \u001b[?25l\u001b[?25hdone\n",
            "  Created wheel for wget: filename=wget-3.2-py3-none-any.whl size=9657 sha256=df14d8a89eb72ea822ce3e44ef155e88bc93a55fe006ecc3e9d37dfe5d43a434\n",
            "  Stored in directory: /root/.cache/pip/wheels/8b/f1/7f/5c94f0a7a505ca1c81cd1d9208ae2064675d97582078e6c769\n",
            "  Building wheel for fasttext (setup.py) ... \u001b[?25l\u001b[?25hdone\n",
            "  Created wheel for fasttext: filename=fasttext-0.9.2-cp310-cp310-linux_x86_64.whl size=4393437 sha256=874100a0f50e7c2b3f2ab5c3a17b873df36283f9cebf4d881d79151b5a6c9914\n",
            "  Stored in directory: /root/.cache/pip/wheels/a5/13/75/f811c84a8ab36eedbaef977a6a58a98990e8e0f1967f98f394\n",
            "Successfully built wget fasttext\n",
            "Installing collected packages: wget, pybind11, fasttext\n",
            "Successfully installed fasttext-0.9.2 pybind11-2.10.4 wget-3.2\n"
          ]
        }
      ]
    },
    {
      "cell_type": "code",
      "source": [
        "import os\n",
        "import pandas as pd\n",
        "import wget\n",
        "import tarfile\n",
        "import requests\n",
        "\n",
        "SEED=42"
      ],
      "metadata": {
        "id": "vrM-B5kAKcF2"
      },
      "execution_count": 2,
      "outputs": []
    },
    {
      "cell_type": "code",
      "source": [
        "url = \"https://github.com/pyk/dbpedia_csv/raw/master/dbpedia_csv.tar.gz\"\n",
        "filename = \"dbpedia_csv.tar.gz\"\n",
        "save_folder = \"data\"\n",
        "\n",
        "# Create the folder if it doesn't exist\n",
        "if not os.path.exists(save_folder):\n",
        "    os.makedirs(save_folder)\n",
        "\n",
        "save_path = os.path.join(save_folder, filename)\n",
        "\n",
        "response = requests.get(url)\n",
        "with open(save_path, \"wb\") as file:\n",
        "    file.write(response.content)\n",
        "\n",
        "print(\"File downloaded successfully and saved in the 'data' folder.\")"
      ],
      "metadata": {
        "colab": {
          "base_uri": "https://localhost:8080/"
        },
        "id": "UZB-q6yINRD0",
        "outputId": "10fae815-939b-4500-e02e-8cb273fe4906"
      },
      "execution_count": 3,
      "outputs": [
        {
          "output_type": "stream",
          "name": "stdout",
          "text": [
            "File downloaded successfully and saved in the 'data' folder.\n"
          ]
        }
      ]
    },
    {
      "cell_type": "code",
      "source": [
        "# untaring the required file\n",
        "tar = tarfile.open(save_path, \"r:gz\")\n",
        "tar.extractall(save_folder)     \n",
        "tar.close()"
      ],
      "metadata": {
        "id": "Yd2sQp-EF85h"
      },
      "execution_count": 4,
      "outputs": []
    },
    {
      "cell_type": "code",
      "source": [
        "# loading train data\n",
        "train_file_path=os.path.join(save_folder,'dbpedia_csv/train.csv')\n",
        "df = pd.read_csv(train_file_path, header=None, names=['class', 'name', 'description'])\n",
        "\n",
        "# loading test data\n",
        "test_file_path=os.path.join(save_folder, 'dbpedia_csv/test.csv')\n",
        "df_test = pd.read_csv(test_file_path, header=None, names=['class','name','description'])\n",
        "\n",
        "print(\"Train:{} Test:{}\".format(df.shape,df_test.shape))"
      ],
      "metadata": {
        "colab": {
          "base_uri": "https://localhost:8080/"
        },
        "id": "-6HhR7f1O5V7",
        "outputId": "c64c9bbb-d6e7-4f2e-9970-c2a832061265"
      },
      "execution_count": 5,
      "outputs": [
        {
          "output_type": "stream",
          "name": "stdout",
          "text": [
            "Train:(560000, 3) Test:(70000, 3)\n"
          ]
        }
      ]
    },
    {
      "cell_type": "code",
      "source": [
        "# The dataset only include class numeric values, and we do not have any reference about its meanings\n",
        "# Then, we are going to map those class numbers with class names (real labels not present in dataset)\n",
        "\n",
        "class_dict={\n",
        "  1:'Company',\n",
        "  2:'EducationalInstitution',\n",
        "  3:'Artist',\n",
        "  4:'Athlete',\n",
        "  5:'OfficeHolder',\n",
        "  6:'MeanOfTransportation',\n",
        "  7:'Building',\n",
        "  8:'NaturalPlace',\n",
        "  9:'Village',\n",
        "  10:'Animal',\n",
        "  11:'Plant',\n",
        "  12:'Album',\n",
        "  13:'Film',\n",
        "  14:'WrittenWork'\n",
        "}\n",
        "\n",
        "# Mapping the classes\n",
        "df['class_name'] = df['class'].map(class_dict)"
      ],
      "metadata": {
        "id": "ErNcs9pKj9yZ"
      },
      "execution_count": 6,
      "outputs": []
    },
    {
      "cell_type": "code",
      "execution_count": 7,
      "metadata": {
        "id": "mZBiViOR2Tjo",
        "colab": {
          "base_uri": "https://localhost:8080/",
          "height": 206
        },
        "outputId": "ceda4166-bb37-4434-fc92-31fe28788a0c"
      },
      "outputs": [
        {
          "output_type": "execute_result",
          "data": {
            "text/plain": [
              "   class                               name  \\\n",
              "0      1                   E. D. Abbott Ltd   \n",
              "1      1                     Schwan-Stabilo   \n",
              "2      1                         Q-workshop   \n",
              "3      1  Marvell Software Solutions Israel   \n",
              "4      1        Bergan Mercy Medical Center   \n",
              "\n",
              "                                         description class_name  \n",
              "0   Abbott of Farnham E D Abbott Limited was a Br...    Company  \n",
              "1   Schwan-STABILO is a German maker of pens for ...    Company  \n",
              "2   Q-workshop is a Polish company located in Poz...    Company  \n",
              "3   Marvell Software Solutions Israel known as RA...    Company  \n",
              "4   Bergan Mercy Medical Center is a hospital loc...    Company  "
            ],
            "text/html": [
              "\n",
              "  <div id=\"df-b61b1a44-c250-407d-b3d1-3513e4512524\">\n",
              "    <div class=\"colab-df-container\">\n",
              "      <div>\n",
              "<style scoped>\n",
              "    .dataframe tbody tr th:only-of-type {\n",
              "        vertical-align: middle;\n",
              "    }\n",
              "\n",
              "    .dataframe tbody tr th {\n",
              "        vertical-align: top;\n",
              "    }\n",
              "\n",
              "    .dataframe thead th {\n",
              "        text-align: right;\n",
              "    }\n",
              "</style>\n",
              "<table border=\"1\" class=\"dataframe\">\n",
              "  <thead>\n",
              "    <tr style=\"text-align: right;\">\n",
              "      <th></th>\n",
              "      <th>class</th>\n",
              "      <th>name</th>\n",
              "      <th>description</th>\n",
              "      <th>class_name</th>\n",
              "    </tr>\n",
              "  </thead>\n",
              "  <tbody>\n",
              "    <tr>\n",
              "      <th>0</th>\n",
              "      <td>1</td>\n",
              "      <td>E. D. Abbott Ltd</td>\n",
              "      <td>Abbott of Farnham E D Abbott Limited was a Br...</td>\n",
              "      <td>Company</td>\n",
              "    </tr>\n",
              "    <tr>\n",
              "      <th>1</th>\n",
              "      <td>1</td>\n",
              "      <td>Schwan-Stabilo</td>\n",
              "      <td>Schwan-STABILO is a German maker of pens for ...</td>\n",
              "      <td>Company</td>\n",
              "    </tr>\n",
              "    <tr>\n",
              "      <th>2</th>\n",
              "      <td>1</td>\n",
              "      <td>Q-workshop</td>\n",
              "      <td>Q-workshop is a Polish company located in Poz...</td>\n",
              "      <td>Company</td>\n",
              "    </tr>\n",
              "    <tr>\n",
              "      <th>3</th>\n",
              "      <td>1</td>\n",
              "      <td>Marvell Software Solutions Israel</td>\n",
              "      <td>Marvell Software Solutions Israel known as RA...</td>\n",
              "      <td>Company</td>\n",
              "    </tr>\n",
              "    <tr>\n",
              "      <th>4</th>\n",
              "      <td>1</td>\n",
              "      <td>Bergan Mercy Medical Center</td>\n",
              "      <td>Bergan Mercy Medical Center is a hospital loc...</td>\n",
              "      <td>Company</td>\n",
              "    </tr>\n",
              "  </tbody>\n",
              "</table>\n",
              "</div>\n",
              "      <button class=\"colab-df-convert\" onclick=\"convertToInteractive('df-b61b1a44-c250-407d-b3d1-3513e4512524')\"\n",
              "              title=\"Convert this dataframe to an interactive table.\"\n",
              "              style=\"display:none;\">\n",
              "        \n",
              "  <svg xmlns=\"http://www.w3.org/2000/svg\" height=\"24px\"viewBox=\"0 0 24 24\"\n",
              "       width=\"24px\">\n",
              "    <path d=\"M0 0h24v24H0V0z\" fill=\"none\"/>\n",
              "    <path d=\"M18.56 5.44l.94 2.06.94-2.06 2.06-.94-2.06-.94-.94-2.06-.94 2.06-2.06.94zm-11 1L8.5 8.5l.94-2.06 2.06-.94-2.06-.94L8.5 2.5l-.94 2.06-2.06.94zm10 10l.94 2.06.94-2.06 2.06-.94-2.06-.94-.94-2.06-.94 2.06-2.06.94z\"/><path d=\"M17.41 7.96l-1.37-1.37c-.4-.4-.92-.59-1.43-.59-.52 0-1.04.2-1.43.59L10.3 9.45l-7.72 7.72c-.78.78-.78 2.05 0 2.83L4 21.41c.39.39.9.59 1.41.59.51 0 1.02-.2 1.41-.59l7.78-7.78 2.81-2.81c.8-.78.8-2.07 0-2.86zM5.41 20L4 18.59l7.72-7.72 1.47 1.35L5.41 20z\"/>\n",
              "  </svg>\n",
              "      </button>\n",
              "      \n",
              "  <style>\n",
              "    .colab-df-container {\n",
              "      display:flex;\n",
              "      flex-wrap:wrap;\n",
              "      gap: 12px;\n",
              "    }\n",
              "\n",
              "    .colab-df-convert {\n",
              "      background-color: #E8F0FE;\n",
              "      border: none;\n",
              "      border-radius: 50%;\n",
              "      cursor: pointer;\n",
              "      display: none;\n",
              "      fill: #1967D2;\n",
              "      height: 32px;\n",
              "      padding: 0 0 0 0;\n",
              "      width: 32px;\n",
              "    }\n",
              "\n",
              "    .colab-df-convert:hover {\n",
              "      background-color: #E2EBFA;\n",
              "      box-shadow: 0px 1px 2px rgba(60, 64, 67, 0.3), 0px 1px 3px 1px rgba(60, 64, 67, 0.15);\n",
              "      fill: #174EA6;\n",
              "    }\n",
              "\n",
              "    [theme=dark] .colab-df-convert {\n",
              "      background-color: #3B4455;\n",
              "      fill: #D2E3FC;\n",
              "    }\n",
              "\n",
              "    [theme=dark] .colab-df-convert:hover {\n",
              "      background-color: #434B5C;\n",
              "      box-shadow: 0px 1px 3px 1px rgba(0, 0, 0, 0.15);\n",
              "      filter: drop-shadow(0px 1px 2px rgba(0, 0, 0, 0.3));\n",
              "      fill: #FFFFFF;\n",
              "    }\n",
              "  </style>\n",
              "\n",
              "      <script>\n",
              "        const buttonEl =\n",
              "          document.querySelector('#df-b61b1a44-c250-407d-b3d1-3513e4512524 button.colab-df-convert');\n",
              "        buttonEl.style.display =\n",
              "          google.colab.kernel.accessAllowed ? 'block' : 'none';\n",
              "\n",
              "        async function convertToInteractive(key) {\n",
              "          const element = document.querySelector('#df-b61b1a44-c250-407d-b3d1-3513e4512524');\n",
              "          const dataTable =\n",
              "            await google.colab.kernel.invokeFunction('convertToInteractive',\n",
              "                                                     [key], {});\n",
              "          if (!dataTable) return;\n",
              "\n",
              "          const docLinkHtml = 'Like what you see? Visit the ' +\n",
              "            '<a target=\"_blank\" href=https://colab.research.google.com/notebooks/data_table.ipynb>data table notebook</a>'\n",
              "            + ' to learn more about interactive tables.';\n",
              "          element.innerHTML = '';\n",
              "          dataTable['output_type'] = 'display_data';\n",
              "          await google.colab.output.renderOutput(dataTable, element);\n",
              "          const docLink = document.createElement('div');\n",
              "          docLink.innerHTML = docLinkHtml;\n",
              "          element.appendChild(docLink);\n",
              "        }\n",
              "      </script>\n",
              "    </div>\n",
              "  </div>\n",
              "  "
            ]
          },
          "metadata": {},
          "execution_count": 7
        }
      ],
      "source": [
        "df[:5]"
      ]
    },
    {
      "cell_type": "code",
      "execution_count": 8,
      "metadata": {
        "id": "10SejDO24bY1",
        "colab": {
          "base_uri": "https://localhost:8080/"
        },
        "outputId": "fd9990e2-d491-4e99-9ca6-7946617b8a61"
      },
      "outputs": [
        {
          "output_type": "execute_result",
          "data": {
            "text/plain": [
              "array(['Company', 'EducationalInstitution', 'Artist', 'Athlete',\n",
              "       'OfficeHolder', 'MeanOfTransportation', 'Building', 'NaturalPlace',\n",
              "       'Village', 'Animal', 'Plant', 'Album', 'Film', 'WrittenWork'],\n",
              "      dtype=object)"
            ]
          },
          "metadata": {},
          "execution_count": 8
        }
      ],
      "source": [
        "df['class_name'].unique()"
      ]
    },
    {
      "cell_type": "code",
      "source": [
        "df['class_name'].value_counts()"
      ],
      "metadata": {
        "colab": {
          "base_uri": "https://localhost:8080/"
        },
        "id": "cpSDEu0OmUdJ",
        "outputId": "13a5b856-904c-466b-9166-676ca341aaf7"
      },
      "execution_count": 9,
      "outputs": [
        {
          "output_type": "execute_result",
          "data": {
            "text/plain": [
              "Company                   40000\n",
              "EducationalInstitution    40000\n",
              "Artist                    40000\n",
              "Athlete                   40000\n",
              "OfficeHolder              40000\n",
              "MeanOfTransportation      40000\n",
              "Building                  40000\n",
              "NaturalPlace              40000\n",
              "Village                   40000\n",
              "Animal                    40000\n",
              "Plant                     40000\n",
              "Album                     40000\n",
              "Film                      40000\n",
              "WrittenWork               40000\n",
              "Name: class_name, dtype: int64"
            ]
          },
          "metadata": {},
          "execution_count": 9
        }
      ]
    },
    {
      "cell_type": "code",
      "execution_count": 10,
      "metadata": {
        "colab": {
          "base_uri": "https://localhost:8080/",
          "height": 194
        },
        "id": "_1eqDFMD51nj",
        "outputId": "b5dd8a15-a7f0-478b-d8a2-66c28b48e797"
      },
      "outputs": [
        {
          "output_type": "stream",
          "name": "stdout",
          "text": [
            "0     Abbott of Farnham E D Abbott Limited was a Br...\n",
            "1     Schwan-STABILO is a German maker of pens for ...\n",
            "2     Q-workshop is a Polish company located in Poz...\n",
            "3     Marvell Software Solutions Israel known as RA...\n",
            "4     Bergan Mercy Medical Center is a hospital loc...\n",
            "Name: description, dtype: object\n",
            "\n",
            "\n"
          ]
        },
        {
          "output_type": "execute_result",
          "data": {
            "text/plain": [
              "' Abbott of Farnham E D Abbott Limited was a British coachbuilding business based in Farnham Surrey trading under that name from 1929. A major part of their output was under sub-contract to motor vehicle manufacturers. Their business closed in 1972.'"
            ],
            "application/vnd.google.colaboratory.intrinsic+json": {
              "type": "string"
            }
          },
          "metadata": {},
          "execution_count": 10
        }
      ],
      "source": [
        "# exploring description cells\n",
        "print(df[:5]['description'])\n",
        "print('\\n')\n",
        "df[:5]['description'][0]"
      ]
    },
    {
      "cell_type": "code",
      "source": [
        "# perform data cleaning\n",
        "\n",
        "def clean_text(text, normalize=True):\n",
        "  # the aim of this replacement chain is to isolate special characters from other words,\n",
        "  # so they can be processed as independent entities\n",
        "  s = str(text).replace(',',' ').replace('\"','').replace('\\'',' \\' ').\\\n",
        "              replace('.',' . ').replace('(',' ( ').replace(')',' ) ').\\\n",
        "              replace('!',' ! ').replace('?',' ? ').replace(':',' ').\\\n",
        "              replace(';',' ').lower()\n",
        "  if normalize:\n",
        "    # NFKD normalize the special characters in the text by separating then into \n",
        "    # their base forms. For instance: é = e ´. the encode input parameters are used \n",
        "    # to silently ignore any unicode character that cannot be represented. The last part\n",
        "    # converts the encoded string into a Unicode string by using utf-8 decoder. \n",
        "    s = s.normalize(\"NFKD\").str.encode('ascii', 'ignore').str.decode('utf-8')\n",
        "  return s\n",
        "\n",
        "def clean_dataset(data, clean=False, shuffle=False, normalize=False, label_prefix='__class__'):\n",
        "  # deep copy is needed, otherwise copy() will just create a shallow copy referencing to the orginal df\n",
        "  df=data[['name', 'description']].copy(deep=True)\n",
        "  df['class'] = label_prefix + data['class'].astype(str) + ' '\n",
        "\n",
        "  if clean:\n",
        "    df['name']=df['name'].apply(lambda x: clean_text(x, normalize=normalize))\n",
        "    df['description']=df['description'].apply(lambda x: clean_text(x, normalize))\n",
        "\n",
        "  if shuffle:\n",
        "    df.sample(frac=1).reset_index(drop=True)\n",
        "\n",
        "  return df"
      ],
      "metadata": {
        "id": "sB9JjOUipUgh"
      },
      "execution_count": 11,
      "outputs": []
    },
    {
      "cell_type": "code",
      "execution_count": 12,
      "metadata": {
        "colab": {
          "base_uri": "https://localhost:8080/"
        },
        "id": "azJO0YfJ6MGx",
        "outputId": "e20f843c-820d-4f9f-9a8f-7639956cf3eb"
      },
      "outputs": [
        {
          "output_type": "stream",
          "name": "stdout",
          "text": [
            "CPU times: user 4.25 s, sys: 255 ms, total: 4.51 s\n",
            "Wall time: 4.63 s\n"
          ]
        }
      ],
      "source": [
        "%%time\n",
        "# pre process the dataset with the functions defined above\n",
        "df_train_cleaned=clean_dataset(df, clean=True, shuffle=True)\n",
        "df_test_cleaned=clean_dataset(df_test, clean=True, shuffle=True)"
      ]
    },
    {
      "cell_type": "code",
      "source": [
        "df[:2]"
      ],
      "metadata": {
        "colab": {
          "base_uri": "https://localhost:8080/",
          "height": 112
        },
        "id": "MvpVSQZMO8ib",
        "outputId": "c932b8a8-3153-4c74-e4f6-ee970e0dfb27"
      },
      "execution_count": 13,
      "outputs": [
        {
          "output_type": "execute_result",
          "data": {
            "text/plain": [
              "   class              name                                        description  \\\n",
              "0      1  E. D. Abbott Ltd   Abbott of Farnham E D Abbott Limited was a Br...   \n",
              "1      1    Schwan-Stabilo   Schwan-STABILO is a German maker of pens for ...   \n",
              "\n",
              "  class_name  \n",
              "0    Company  \n",
              "1    Company  "
            ],
            "text/html": [
              "\n",
              "  <div id=\"df-1c993072-b576-4c88-bd26-4116742b14ec\">\n",
              "    <div class=\"colab-df-container\">\n",
              "      <div>\n",
              "<style scoped>\n",
              "    .dataframe tbody tr th:only-of-type {\n",
              "        vertical-align: middle;\n",
              "    }\n",
              "\n",
              "    .dataframe tbody tr th {\n",
              "        vertical-align: top;\n",
              "    }\n",
              "\n",
              "    .dataframe thead th {\n",
              "        text-align: right;\n",
              "    }\n",
              "</style>\n",
              "<table border=\"1\" class=\"dataframe\">\n",
              "  <thead>\n",
              "    <tr style=\"text-align: right;\">\n",
              "      <th></th>\n",
              "      <th>class</th>\n",
              "      <th>name</th>\n",
              "      <th>description</th>\n",
              "      <th>class_name</th>\n",
              "    </tr>\n",
              "  </thead>\n",
              "  <tbody>\n",
              "    <tr>\n",
              "      <th>0</th>\n",
              "      <td>1</td>\n",
              "      <td>E. D. Abbott Ltd</td>\n",
              "      <td>Abbott of Farnham E D Abbott Limited was a Br...</td>\n",
              "      <td>Company</td>\n",
              "    </tr>\n",
              "    <tr>\n",
              "      <th>1</th>\n",
              "      <td>1</td>\n",
              "      <td>Schwan-Stabilo</td>\n",
              "      <td>Schwan-STABILO is a German maker of pens for ...</td>\n",
              "      <td>Company</td>\n",
              "    </tr>\n",
              "  </tbody>\n",
              "</table>\n",
              "</div>\n",
              "      <button class=\"colab-df-convert\" onclick=\"convertToInteractive('df-1c993072-b576-4c88-bd26-4116742b14ec')\"\n",
              "              title=\"Convert this dataframe to an interactive table.\"\n",
              "              style=\"display:none;\">\n",
              "        \n",
              "  <svg xmlns=\"http://www.w3.org/2000/svg\" height=\"24px\"viewBox=\"0 0 24 24\"\n",
              "       width=\"24px\">\n",
              "    <path d=\"M0 0h24v24H0V0z\" fill=\"none\"/>\n",
              "    <path d=\"M18.56 5.44l.94 2.06.94-2.06 2.06-.94-2.06-.94-.94-2.06-.94 2.06-2.06.94zm-11 1L8.5 8.5l.94-2.06 2.06-.94-2.06-.94L8.5 2.5l-.94 2.06-2.06.94zm10 10l.94 2.06.94-2.06 2.06-.94-2.06-.94-.94-2.06-.94 2.06-2.06.94z\"/><path d=\"M17.41 7.96l-1.37-1.37c-.4-.4-.92-.59-1.43-.59-.52 0-1.04.2-1.43.59L10.3 9.45l-7.72 7.72c-.78.78-.78 2.05 0 2.83L4 21.41c.39.39.9.59 1.41.59.51 0 1.02-.2 1.41-.59l7.78-7.78 2.81-2.81c.8-.78.8-2.07 0-2.86zM5.41 20L4 18.59l7.72-7.72 1.47 1.35L5.41 20z\"/>\n",
              "  </svg>\n",
              "      </button>\n",
              "      \n",
              "  <style>\n",
              "    .colab-df-container {\n",
              "      display:flex;\n",
              "      flex-wrap:wrap;\n",
              "      gap: 12px;\n",
              "    }\n",
              "\n",
              "    .colab-df-convert {\n",
              "      background-color: #E8F0FE;\n",
              "      border: none;\n",
              "      border-radius: 50%;\n",
              "      cursor: pointer;\n",
              "      display: none;\n",
              "      fill: #1967D2;\n",
              "      height: 32px;\n",
              "      padding: 0 0 0 0;\n",
              "      width: 32px;\n",
              "    }\n",
              "\n",
              "    .colab-df-convert:hover {\n",
              "      background-color: #E2EBFA;\n",
              "      box-shadow: 0px 1px 2px rgba(60, 64, 67, 0.3), 0px 1px 3px 1px rgba(60, 64, 67, 0.15);\n",
              "      fill: #174EA6;\n",
              "    }\n",
              "\n",
              "    [theme=dark] .colab-df-convert {\n",
              "      background-color: #3B4455;\n",
              "      fill: #D2E3FC;\n",
              "    }\n",
              "\n",
              "    [theme=dark] .colab-df-convert:hover {\n",
              "      background-color: #434B5C;\n",
              "      box-shadow: 0px 1px 3px 1px rgba(0, 0, 0, 0.15);\n",
              "      filter: drop-shadow(0px 1px 2px rgba(0, 0, 0, 0.3));\n",
              "      fill: #FFFFFF;\n",
              "    }\n",
              "  </style>\n",
              "\n",
              "      <script>\n",
              "        const buttonEl =\n",
              "          document.querySelector('#df-1c993072-b576-4c88-bd26-4116742b14ec button.colab-df-convert');\n",
              "        buttonEl.style.display =\n",
              "          google.colab.kernel.accessAllowed ? 'block' : 'none';\n",
              "\n",
              "        async function convertToInteractive(key) {\n",
              "          const element = document.querySelector('#df-1c993072-b576-4c88-bd26-4116742b14ec');\n",
              "          const dataTable =\n",
              "            await google.colab.kernel.invokeFunction('convertToInteractive',\n",
              "                                                     [key], {});\n",
              "          if (!dataTable) return;\n",
              "\n",
              "          const docLinkHtml = 'Like what you see? Visit the ' +\n",
              "            '<a target=\"_blank\" href=https://colab.research.google.com/notebooks/data_table.ipynb>data table notebook</a>'\n",
              "            + ' to learn more about interactive tables.';\n",
              "          element.innerHTML = '';\n",
              "          dataTable['output_type'] = 'display_data';\n",
              "          await google.colab.output.renderOutput(dataTable, element);\n",
              "          const docLink = document.createElement('div');\n",
              "          docLink.innerHTML = docLinkHtml;\n",
              "          element.appendChild(docLink);\n",
              "        }\n",
              "      </script>\n",
              "    </div>\n",
              "  </div>\n",
              "  "
            ]
          },
          "metadata": {},
          "execution_count": 13
        }
      ]
    },
    {
      "cell_type": "code",
      "source": [
        "df_train_cleaned[:2]"
      ],
      "metadata": {
        "colab": {
          "base_uri": "https://localhost:8080/",
          "height": 112
        },
        "id": "juuCHynPQTm1",
        "outputId": "f3a4f113-f4c8-458c-d86a-f81a66af9e50"
      },
      "execution_count": 14,
      "outputs": [
        {
          "output_type": "execute_result",
          "data": {
            "text/plain": [
              "                   name                                        description  \\\n",
              "0  e .  d .  abbott ltd   abbott of farnham e d abbott limited was a br...   \n",
              "1        schwan-stabilo   schwan-stabilo is a german maker of pens for ...   \n",
              "\n",
              "         class  \n",
              "0  __class__1   \n",
              "1  __class__1   "
            ],
            "text/html": [
              "\n",
              "  <div id=\"df-f4eed9f2-fa4b-4ede-a7a7-33c8313aad8d\">\n",
              "    <div class=\"colab-df-container\">\n",
              "      <div>\n",
              "<style scoped>\n",
              "    .dataframe tbody tr th:only-of-type {\n",
              "        vertical-align: middle;\n",
              "    }\n",
              "\n",
              "    .dataframe tbody tr th {\n",
              "        vertical-align: top;\n",
              "    }\n",
              "\n",
              "    .dataframe thead th {\n",
              "        text-align: right;\n",
              "    }\n",
              "</style>\n",
              "<table border=\"1\" class=\"dataframe\">\n",
              "  <thead>\n",
              "    <tr style=\"text-align: right;\">\n",
              "      <th></th>\n",
              "      <th>name</th>\n",
              "      <th>description</th>\n",
              "      <th>class</th>\n",
              "    </tr>\n",
              "  </thead>\n",
              "  <tbody>\n",
              "    <tr>\n",
              "      <th>0</th>\n",
              "      <td>e .  d .  abbott ltd</td>\n",
              "      <td>abbott of farnham e d abbott limited was a br...</td>\n",
              "      <td>__class__1</td>\n",
              "    </tr>\n",
              "    <tr>\n",
              "      <th>1</th>\n",
              "      <td>schwan-stabilo</td>\n",
              "      <td>schwan-stabilo is a german maker of pens for ...</td>\n",
              "      <td>__class__1</td>\n",
              "    </tr>\n",
              "  </tbody>\n",
              "</table>\n",
              "</div>\n",
              "      <button class=\"colab-df-convert\" onclick=\"convertToInteractive('df-f4eed9f2-fa4b-4ede-a7a7-33c8313aad8d')\"\n",
              "              title=\"Convert this dataframe to an interactive table.\"\n",
              "              style=\"display:none;\">\n",
              "        \n",
              "  <svg xmlns=\"http://www.w3.org/2000/svg\" height=\"24px\"viewBox=\"0 0 24 24\"\n",
              "       width=\"24px\">\n",
              "    <path d=\"M0 0h24v24H0V0z\" fill=\"none\"/>\n",
              "    <path d=\"M18.56 5.44l.94 2.06.94-2.06 2.06-.94-2.06-.94-.94-2.06-.94 2.06-2.06.94zm-11 1L8.5 8.5l.94-2.06 2.06-.94-2.06-.94L8.5 2.5l-.94 2.06-2.06.94zm10 10l.94 2.06.94-2.06 2.06-.94-2.06-.94-.94-2.06-.94 2.06-2.06.94z\"/><path d=\"M17.41 7.96l-1.37-1.37c-.4-.4-.92-.59-1.43-.59-.52 0-1.04.2-1.43.59L10.3 9.45l-7.72 7.72c-.78.78-.78 2.05 0 2.83L4 21.41c.39.39.9.59 1.41.59.51 0 1.02-.2 1.41-.59l7.78-7.78 2.81-2.81c.8-.78.8-2.07 0-2.86zM5.41 20L4 18.59l7.72-7.72 1.47 1.35L5.41 20z\"/>\n",
              "  </svg>\n",
              "      </button>\n",
              "      \n",
              "  <style>\n",
              "    .colab-df-container {\n",
              "      display:flex;\n",
              "      flex-wrap:wrap;\n",
              "      gap: 12px;\n",
              "    }\n",
              "\n",
              "    .colab-df-convert {\n",
              "      background-color: #E8F0FE;\n",
              "      border: none;\n",
              "      border-radius: 50%;\n",
              "      cursor: pointer;\n",
              "      display: none;\n",
              "      fill: #1967D2;\n",
              "      height: 32px;\n",
              "      padding: 0 0 0 0;\n",
              "      width: 32px;\n",
              "    }\n",
              "\n",
              "    .colab-df-convert:hover {\n",
              "      background-color: #E2EBFA;\n",
              "      box-shadow: 0px 1px 2px rgba(60, 64, 67, 0.3), 0px 1px 3px 1px rgba(60, 64, 67, 0.15);\n",
              "      fill: #174EA6;\n",
              "    }\n",
              "\n",
              "    [theme=dark] .colab-df-convert {\n",
              "      background-color: #3B4455;\n",
              "      fill: #D2E3FC;\n",
              "    }\n",
              "\n",
              "    [theme=dark] .colab-df-convert:hover {\n",
              "      background-color: #434B5C;\n",
              "      box-shadow: 0px 1px 3px 1px rgba(0, 0, 0, 0.15);\n",
              "      filter: drop-shadow(0px 1px 2px rgba(0, 0, 0, 0.3));\n",
              "      fill: #FFFFFF;\n",
              "    }\n",
              "  </style>\n",
              "\n",
              "      <script>\n",
              "        const buttonEl =\n",
              "          document.querySelector('#df-f4eed9f2-fa4b-4ede-a7a7-33c8313aad8d button.colab-df-convert');\n",
              "        buttonEl.style.display =\n",
              "          google.colab.kernel.accessAllowed ? 'block' : 'none';\n",
              "\n",
              "        async function convertToInteractive(key) {\n",
              "          const element = document.querySelector('#df-f4eed9f2-fa4b-4ede-a7a7-33c8313aad8d');\n",
              "          const dataTable =\n",
              "            await google.colab.kernel.invokeFunction('convertToInteractive',\n",
              "                                                     [key], {});\n",
              "          if (!dataTable) return;\n",
              "\n",
              "          const docLinkHtml = 'Like what you see? Visit the ' +\n",
              "            '<a target=\"_blank\" href=https://colab.research.google.com/notebooks/data_table.ipynb>data table notebook</a>'\n",
              "            + ' to learn more about interactive tables.';\n",
              "          element.innerHTML = '';\n",
              "          dataTable['output_type'] = 'display_data';\n",
              "          await google.colab.output.renderOutput(dataTable, element);\n",
              "          const docLink = document.createElement('div');\n",
              "          docLink.innerHTML = docLinkHtml;\n",
              "          element.appendChild(docLink);\n",
              "        }\n",
              "      </script>\n",
              "    </div>\n",
              "  </div>\n",
              "  "
            ]
          },
          "metadata": {},
          "execution_count": 14
        }
      ]
    },
    {
      "cell_type": "code",
      "source": [
        "from requests.api import head\n",
        "# fastText classifier needs to read the data from a file stored in the disk\n",
        "train_file=save_folder + '/dbpedia_train.csv'\n",
        "df_train_cleaned.to_csv(train_file, header=None, index=False, columns=['class', 'name', 'description'])\n",
        "\n",
        "test_file=save_folder + '/dbpedia_test.csv'\n",
        "df_test_cleaned.to_csv(test_file, header=None, index=False, columns=['class', 'name', 'description'])"
      ],
      "metadata": {
        "id": "7AN11sSvO-Bx"
      },
      "execution_count": 15,
      "outputs": []
    },
    {
      "cell_type": "code",
      "source": [
        "# using fastText for feature extraction and training\n",
        "%%time\n",
        "from fasttext import train_supervised \n",
        "\n",
        "# Input args: training file, model name, label prefix (__class__)\n",
        "model=train_supervised(input=train_file, label=\"__class__\", lr=1.0, epoch=75, loss='ova', wordNgrams=2, dim=200, thread=2, verbose=100)\n"
      ],
      "metadata": {
        "id": "SmWhxIWrVgeA",
        "colab": {
          "base_uri": "https://localhost:8080/"
        },
        "outputId": "9ad94d78-daad-4aa8-d07d-0da72a7ea248"
      },
      "execution_count": 16,
      "outputs": [
        {
          "output_type": "stream",
          "name": "stdout",
          "text": [
            "CPU times: user 1h 1min 23s, sys: 19.9 s, total: 1h 1min 43s\n",
            "Wall time: 35min 33s\n"
          ]
        }
      ]
    },
    {
      "cell_type": "code",
      "source": [
        "for k in range(1,6):\n",
        "# Precision at k measures the proportion of correct labels among the top k \n",
        "# predicted labels. It evaluates how well the model's predictions match the true \n",
        "# labels.\n",
        "\n",
        "# Recall at k measures the proportion of relevant labels that are successfully\n",
        "# predicted among the top k predicted labels. It evaluates how well the model \n",
        "# captures all the relevant labels.\n",
        "  results=model.test(test_file, k=k)\n",
        "  print(f\"Test Samples: {results[0]} Precision@{k} : {results[1]*100:2.4f} Recall@{k} : {results[2]*100:2.4f}\")\n"
      ],
      "metadata": {
        "colab": {
          "base_uri": "https://localhost:8080/"
        },
        "id": "oSyfwKP_exWL",
        "outputId": "e0bcaec5-a40d-46da-d4dc-75437eab44bf"
      },
      "execution_count": 17,
      "outputs": [
        {
          "output_type": "stream",
          "name": "stdout",
          "text": [
            "Test Samples: 70000 Precision@1 : 92.4271 Recall@1 : 92.4271\n",
            "Test Samples: 70000 Precision@2 : 47.9421 Recall@2 : 95.8843\n",
            "Test Samples: 70000 Precision@3 : 32.3548 Recall@3 : 97.0643\n",
            "Test Samples: 70000 Precision@4 : 24.3971 Recall@4 : 97.5886\n",
            "Test Samples: 70000 Precision@5 : 19.5494 Recall@5 : 97.7471\n"
          ]
        }
      ]
    }
  ],
  "metadata": {
    "colab": {
      "provenance": [],
      "gpuType": "T4"
    },
    "kernelspec": {
      "display_name": "Python 3",
      "name": "python3"
    },
    "language_info": {
      "name": "python"
    },
    "accelerator": "GPU"
  },
  "nbformat": 4,
  "nbformat_minor": 0
}